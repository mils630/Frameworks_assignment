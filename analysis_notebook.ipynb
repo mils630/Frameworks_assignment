{
 "cells": [
  {
   "cell_type": "code",
   "execution_count": null,
   "id": "d1f587d6",
   "metadata": {},
   "outputs": [],
   "source": [
    "import pandas as pd\n",
    "\n",
    "# Load metadata.csv in chunks (safe for large files)\n",
    "chunk_size = 1000\n",
    "chunks = pd.read_csv(\"data/metadata.csv\", chunksize=chunk_size, low_memory=False)\n",
    "\n",
    "# Get the first chunk\n",
    "df = next(chunks)\n",
    "\n",
    "# --- Exploration ---\n",
    "\n",
    "# 1. Show first 5 rows\n",
    "print(\"First 5 rows:\")\n",
    "display(df.head())\n",
    "\n",
    "# 2. DataFrame dimensions\n",
    "print(\"\\nDimensions (rows, columns):\", df.shape)\n",
    "\n",
    "# 3. Data types of each column\n",
    "print(\"\\nData types:\")\n",
    "print(df.dtypes)\n",
    "\n",
    "# 4. Missing values count (important columns example)\n",
    "important_cols = [\"title\", \"abstract\", \"publish_time\", \"authors\"]\n",
    "print(\"\\nMissing values in important columns:\")\n",
    "print(df[important_cols].isnull().sum())\n",
    "\n",
    "# 5. Basic statistics for numerical columns\n",
    "print(\"\\nBasic statistics:\")\n",
    "display(df.describe())\n"
   ]
  }
 ],
 "metadata": {
  "kernelspec": {
   "display_name": "venv (3.13.7)",
   "language": "python",
   "name": "python3"
  },
  "language_info": {
   "codemirror_mode": {
    "name": "ipython",
    "version": 3
   },
   "file_extension": ".py",
   "mimetype": "text/x-python",
   "name": "python",
   "nbconvert_exporter": "python",
   "pygments_lexer": "ipython3",
   "version": "3.13.7"
  }
 },
 "nbformat": 4,
 "nbformat_minor": 5
}
